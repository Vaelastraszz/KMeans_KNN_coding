{
  "nbformat": 4,
  "nbformat_minor": 0,
  "metadata": {
    "colab": {
      "name": "KMeans + KNN from scratch.ipynb",
      "provenance": [],
      "include_colab_link": true
    },
    "kernelspec": {
      "name": "python3",
      "display_name": "Python 3"
    }
  },
  "cells": [
    {
      "cell_type": "markdown",
      "metadata": {
        "id": "view-in-github",
        "colab_type": "text"
      },
      "source": [
        "<a href=\"https://colab.research.google.com/github/Vaelastraszz/KMeans_KNN_coding/blob/master/KMeans_%2B_KNN_from_scratch.ipynb\" target=\"_parent\"><img src=\"https://colab.research.google.com/assets/colab-badge.svg\" alt=\"Open In Colab\"/></a>"
      ]
    },
    {
      "cell_type": "code",
      "metadata": {
        "id": "xpUhZS9kIr79",
        "colab_type": "code",
        "outputId": "f6f1c97f-f8f4-492f-dfed-56e98acea711",
        "colab": {
          "base_uri": "https://localhost:8080/",
          "height": 122
        }
      },
      "source": [
        "import sys\n",
        "import pandas as pd\n",
        "import matplotlib.pyplot as plt\n",
        "import numpy as np\n",
        "\n",
        "from google.colab import drive\n",
        "\n",
        "drive.mount('/content/gdrive')"
      ],
      "execution_count": 0,
      "outputs": [
        {
          "output_type": "stream",
          "text": [
            "Go to this URL in a browser: https://accounts.google.com/o/oauth2/auth?client_id=947318989803-6bn6qk8qdgf4n4g3pfee6491hc0brc4i.apps.googleusercontent.com&redirect_uri=urn%3Aietf%3Awg%3Aoauth%3A2.0%3Aoob&scope=email%20https%3A%2F%2Fwww.googleapis.com%2Fauth%2Fdocs.test%20https%3A%2F%2Fwww.googleapis.com%2Fauth%2Fdrive%20https%3A%2F%2Fwww.googleapis.com%2Fauth%2Fdrive.photos.readonly%20https%3A%2F%2Fwww.googleapis.com%2Fauth%2Fpeopleapi.readonly&response_type=code\n",
            "\n",
            "Enter your authorization code:\n",
            "··········\n",
            "Mounted at /content/gdrive\n"
          ],
          "name": "stdout"
        }
      ]
    },
    {
      "cell_type": "code",
      "metadata": {
        "id": "yKZRQl6-KSkM",
        "colab_type": "code",
        "colab": {}
      },
      "source": [
        "from sklearn import datasets"
      ],
      "execution_count": 0,
      "outputs": []
    },
    {
      "cell_type": "code",
      "metadata": {
        "id": "wMKQboDeKT86",
        "colab_type": "code",
        "colab": {}
      },
      "source": [
        "iris = datasets.load_iris()\n",
        "X = iris.data\n",
        "y = iris.target"
      ],
      "execution_count": 0,
      "outputs": []
    },
    {
      "cell_type": "markdown",
      "metadata": {
        "id": "S5uYj9yGHb0H",
        "colab_type": "text"
      },
      "source": [
        "<h2> KMeans </h2>"
      ]
    },
    {
      "cell_type": "code",
      "metadata": {
        "id": "LFBw5GB5Ixxj",
        "colab_type": "code",
        "colab": {}
      },
      "source": [
        "class KMeans :\n",
        "\n",
        "    def __init__(self, k = 3, max_iter = 500, tolerance = 0.0001):\n",
        "        self.k = k\n",
        "        self.max_iter = max_iter\n",
        "        self.tolerance = tolerance\n",
        "        self.centroids = {}\n",
        "        self.classes = {}\n",
        "\n",
        "\n",
        "    def euclidean_dist(self, x1, x2):\n",
        "\n",
        "        distance = 0 \n",
        "\n",
        "        for i in range(len(x1)) :\n",
        "            distance += pow(x1[i]-x2[i],2)\n",
        "\n",
        "        ed = np.sqrt(distance)\n",
        "\n",
        "        return ed\n",
        "\n",
        "    def fit(self, X):\n",
        "\n",
        "        for i in range(self.k):\n",
        "            self.centroids[i] = X[i]\n",
        "\n",
        "        for i in range(self.max_iter):\n",
        "\n",
        "            for j in range(self.k):\n",
        "                self.classes[j] = []\n",
        "\n",
        "            for feature in X :\n",
        "                distance = [self.euclidean_dist(feature, self.centroids[centroid]) for centroid in self.centroids]\n",
        "                classification = distance.index(min(distance))\n",
        "                self.classes[classification].append(feature)\n",
        "\n",
        "            previous = dict(self.centroids)\n",
        "\n",
        "            for index in self.classes :\n",
        "                self.centroids[index] = np.average(self.classes[index], axis = 0)\n",
        "\n",
        "            isOptimal = True\n",
        "\n",
        "            for centroid in self.centroids :\n",
        "                \n",
        "                original = previous[centroid]\n",
        "                curr = self.centroids[centroid]\n",
        "\n",
        "                if np.sum((curr-original) / original *100) > self.tolerance :\n",
        "                    isOptimal = False\n",
        "\n",
        "            if isOptimal :\n",
        "                break\n",
        "\n"
      ],
      "execution_count": 0,
      "outputs": []
    },
    {
      "cell_type": "code",
      "metadata": {
        "id": "w1o1c_pHSQDJ",
        "colab_type": "code",
        "colab": {}
      },
      "source": [
        "knn = KNN()"
      ],
      "execution_count": 0,
      "outputs": []
    },
    {
      "cell_type": "code",
      "metadata": {
        "id": "9yEKNYnJSRCg",
        "colab_type": "code",
        "colab": {}
      },
      "source": [
        "knn.fit(X)"
      ],
      "execution_count": 0,
      "outputs": []
    },
    {
      "cell_type": "code",
      "metadata": {
        "id": "h-MxOwtVdXyI",
        "colab_type": "code",
        "colab": {}
      },
      "source": [
        "# Plotting starts here, the colors\n",
        "colors = 10*[\"r\", \"g\", \"c\", \"b\", \"k\"]"
      ],
      "execution_count": 0,
      "outputs": []
    },
    {
      "cell_type": "code",
      "metadata": {
        "id": "9an_VPMteDr4",
        "colab_type": "code",
        "outputId": "97df2f82-d52b-4ac4-f6df-129fe561aab0",
        "colab": {
          "base_uri": "https://localhost:8080/",
          "height": 269
        }
      },
      "source": [
        "for centroid in knn.centroids:\n",
        "\tplt.scatter(knn.centroids[centroid][0], knn.centroids[centroid][1], s = 130, marker = \"x\")\n",
        "\n",
        "for classification in knn.classes:\n",
        "\tcolor = colors[classification]\n",
        "\tfor features in knn.classes[classification]:\n",
        "\t\tplt.scatter(features[0], features[1], color = color,s = 30)"
      ],
      "execution_count": 0,
      "outputs": [
        {
          "output_type": "display_data",
          "data": {
            "image/png": "[encoded data removed]",
            "text/plain": [
              "<Figure size 432x288 with 1 Axes>"
            ]
          },
          "metadata": {
            "tags": []
          }
        }
      ]
    },
    {
      "cell_type": "markdown",
      "metadata": {
        "id": "huzO0YSVHgkp",
        "colab_type": "text"
      },
      "source": [
        "<h2> KNN </h2>"
      ]
    },
    {
      "cell_type": "code",
      "metadata": {
        "id": "oEyEG71wefAP",
        "colab_type": "code",
        "colab": {}
      },
      "source": [
        "class KNN :\n",
        "\n",
        "    def __init__(self, k=3):\n",
        "        self.k = k\n",
        "        self.neighbors = {}\n",
        "    \n",
        "    def euclidean_dist(self, x1, x2):\n",
        "\n",
        "        distance = 0 \n",
        "\n",
        "        for i in range(len(x1)) :\n",
        "            distance += pow(x1[i]-x2[i],2)\n",
        "\n",
        "        ed = np.sqrt(distance)\n",
        "\n",
        "        return ed\n",
        "    \n",
        "    def get_k_lowest(self, arr):  \n",
        "        return np.argpartition(arr,self.k)\n",
        "    \n",
        "    def fit(self, X) :\n",
        "        for i in range(X.shape[0]):\n",
        "            distance = [self.euclidean_dist(X[i], y) for y in X]\n",
        "            self.neighbors[i] = np.argpartition(distance,self.k)[:self.k]\n",
        "\n",
        "\n",
        "\n",
        "    "
      ],
      "execution_count": 0,
      "outputs": []
    },
    {
      "cell_type": "code",
      "metadata": {
        "id": "M3gHZBFTKeM7",
        "colab_type": "code",
        "colab": {}
      },
      "source": [
        "knn = KNN(k=4)"
      ],
      "execution_count": 0,
      "outputs": []
    },
    {
      "cell_type": "code",
      "metadata": {
        "id": "207kcTatMwLe",
        "colab_type": "code",
        "colab": {}
      },
      "source": [
        "knn.fit(X)"
      ],
      "execution_count": 0,
      "outputs": []
    },
    {
      "cell_type": "code",
      "metadata": {
        "id": "1ua3dd4EM1Ht",
        "colab_type": "code",
        "outputId": "c9078d0b-84d2-4539-8198-089fe5bd4963",
        "colab": {
          "base_uri": "https://localhost:8080/",
          "height": 1000
        }
      },
      "source": [
        "knn.neighbors"
      ],
      "execution_count": 0,
      "outputs": [
        {
          "output_type": "execute_result",
          "data": {
            "text/plain": [
              "{0: array([ 0, 17,  4, 39]),\n",
              " 1: array([34, 45,  1, 12]),\n",
              " 2: array([ 2, 47,  3, 45]),\n",
              " 3: array([ 3, 29, 47, 30]),\n",
              " 4: array([ 4, 37,  0, 17]),\n",
              " 5: array([ 5, 18, 10, 48]),\n",
              " 6: array([47, 11,  2,  6]),\n",
              " 7: array([ 7, 39, 49,  0]),\n",
              " 8: array([ 8, 38, 42,  3]),\n",
              " 9: array([ 9, 34,  1, 30]),\n",
              " 10: array([48, 27, 10, 36]),\n",
              " 11: array([ 7, 29, 11, 26]),\n",
              " 12: array([ 1, 12,  9, 45]),\n",
              " 13: array([38, 13, 42,  8]),\n",
              " 14: array([33, 14, 16, 15]),\n",
              " 15: array([15, 33, 14,  5]),\n",
              " 16: array([10, 16, 48, 33]),\n",
              " 17: array([ 4, 40, 17,  0]),\n",
              " 18: array([18,  5, 10, 48]),\n",
              " 19: array([19, 46, 48, 21]),\n",
              " 20: array([31, 27, 28, 20]),\n",
              " 21: array([19, 21, 46, 17]),\n",
              " 22: array([22,  6,  2, 37]),\n",
              " 23: array([23, 26, 43, 39]),\n",
              " 24: array([24, 11, 29, 26]),\n",
              " 25: array([ 9, 25, 34,  1]),\n",
              " 26: array([26, 23, 43,  7]),\n",
              " 27: array([27, 28,  0, 39]),\n",
              " 28: array([27, 28, 39,  0]),\n",
              " 29: array([11, 30, 29,  3]),\n",
              " 30: array([29, 30, 34,  9]),\n",
              " 31: array([31, 20, 28, 27]),\n",
              " 32: array([33, 32, 46, 19]),\n",
              " 33: array([33, 15, 32, 16]),\n",
              " 34: array([ 9,  1, 34, 30]),\n",
              " 35: array([35, 49,  1,  2]),\n",
              " 36: array([31, 36, 10, 28]),\n",
              " 37: array([ 4, 37,  0, 40]),\n",
              " 38: array([38,  8, 42, 13]),\n",
              " 39: array([ 7,  0, 39, 27]),\n",
              " 40: array([ 4,  0, 17, 40]),\n",
              " 41: array([ 8, 41, 38, 45]),\n",
              " 42: array([38, 42, 47,  3]),\n",
              " 43: array([26, 21, 23, 43]),\n",
              " 44: array([46, 44,  5, 21]),\n",
              " 45: array([ 1, 45, 12, 34]),\n",
              " 46: array([46, 19, 21, 48]),\n",
              " 47: array([ 3, 47,  2, 42]),\n",
              " 48: array([48, 27, 10, 19]),\n",
              " 49: array([49,  7, 39, 35]),\n",
              " 50: array([50, 52, 86, 65]),\n",
              " 51: array([51, 56, 75, 65]),\n",
              " 52: array([50, 86, 52, 77]),\n",
              " 53: array([53, 89, 80, 69]),\n",
              " 54: array([58, 54, 75, 76]),\n",
              " 55: array([66, 90, 96, 55]),\n",
              " 56: array([85, 56, 51, 91]),\n",
              " 57: array([93, 57, 98, 60]),\n",
              " 58: array([54, 75, 58, 65]),\n",
              " 59: array([59, 53, 89, 94]),\n",
              " 60: array([93, 60, 57, 81]),\n",
              " 61: array([61, 96, 78, 95]),\n",
              " 62: array([92, 62, 69, 67]),\n",
              " 63: array([63, 91, 78, 73]),\n",
              " 64: array([64, 88, 79, 82]),\n",
              " 65: array([65, 58, 75, 86]),\n",
              " 66: array([84, 66, 55, 96]),\n",
              " 67: array([67, 99, 82, 92]),\n",
              " 68: array([ 72,  87,  68, 119]),\n",
              " 69: array([89, 69, 80, 81]),\n",
              " 70: array([138,  70, 127, 149]),\n",
              " 71: array([71, 82, 97, 92]),\n",
              " 72: array([123, 133,  72, 146]),\n",
              " 73: array([73, 63, 91, 78]),\n",
              " 74: array([74, 97, 75, 58]),\n",
              " 75: array([65, 58, 75, 74]),\n",
              " 76: array([76, 58, 86, 52]),\n",
              " 77: array([ 52,  77,  86, 147]),\n",
              " 78: array([78, 91, 63, 61]),\n",
              " 79: array([79, 80, 81, 69]),\n",
              " 80: array([81, 69, 80, 89]),\n",
              " 81: array([81, 80, 69, 79]),\n",
              " 82: array([82, 92, 99, 67]),\n",
              " 83: array([ 83, 133, 142, 101]),\n",
              " 84: array([84, 55, 66, 96]),\n",
              " 85: array([85, 51, 56, 70]),\n",
              " 86: array([65, 86, 52, 58]),\n",
              " 87: array([87, 68, 72, 62]),\n",
              " 88: array([88, 96, 95, 99]),\n",
              " 89: array([89, 53, 69, 80]),\n",
              " 90: array([55, 90, 94, 96]),\n",
              " 91: array([63, 73, 78, 91]),\n",
              " 92: array([67, 82, 92, 99]),\n",
              " 93: array([93, 57, 60, 98]),\n",
              " 94: array([99, 94, 90, 96]),\n",
              " 95: array([96, 95, 99, 88]),\n",
              " 96: array([96, 95, 99, 88]),\n",
              " 97: array([74, 97, 71, 91]),\n",
              " 98: array([60, 57, 98, 93]),\n",
              " 99: array([99, 96, 94, 88]),\n",
              " 100: array([136, 100, 144, 104]),\n",
              " 101: array([101, 142, 113, 121]),\n",
              " 102: array([125, 102, 120, 143]),\n",
              " 103: array([128, 137, 116, 103]),\n",
              " 104: array([128, 104, 132, 140]),\n",
              " 105: array([122, 105, 107, 135]),\n",
              " 106: array([106,  84,  90,  59]),\n",
              " 107: array([107, 130, 125, 105]),\n",
              " 108: array([108, 128, 103, 132]),\n",
              " 109: array([120, 143, 109, 144]),\n",
              " 110: array([147, 110, 115,  77]),\n",
              " 111: array([111, 147, 128, 146]),\n",
              " 112: array([139, 140, 120, 112]),\n",
              " 113: array([142, 113, 121, 101]),\n",
              " 114: array([114, 121, 142, 101]),\n",
              " 115: array([115, 148, 110, 145]),\n",
              " 116: array([116, 137, 103, 147]),\n",
              " 117: array([117, 105, 131, 109]),\n",
              " 118: array([118, 122, 105, 135]),\n",
              " 119: array([119,  72,  83,  68]),\n",
              " 120: array([120, 124, 140, 143]),\n",
              " 121: array([113, 121, 101, 142]),\n",
              " 122: array([105, 118, 107, 122]),\n",
              " 123: array([127, 146, 126, 123]),\n",
              " 124: array([124, 120, 143, 112]),\n",
              " 125: array([125, 102, 129, 107]),\n",
              " 126: array([126, 123, 127, 138]),\n",
              " 127: array([138, 127, 126, 149]),\n",
              " 128: array([132, 104, 128, 103]),\n",
              " 129: array([129, 125, 130, 102]),\n",
              " 130: array([102, 130, 125, 107]),\n",
              " 131: array([117, 131, 105, 135]),\n",
              " 132: array([128, 132, 104, 103]),\n",
              " 133: array([133,  83,  72, 123]),\n",
              " 134: array([103, 134,  83, 133]),\n",
              " 135: array([130, 135, 105, 102]),\n",
              " 136: array([136, 115, 148, 100]),\n",
              " 137: array([137, 116, 103, 147]),\n",
              " 138: array([138, 127, 126,  70]),\n",
              " 139: array([112, 139, 145, 141]),\n",
              " 140: array([140, 144, 120, 112]),\n",
              " 141: array([139, 145, 141, 112]),\n",
              " 142: array([101, 142, 113, 121]),\n",
              " 143: array([143, 120, 124, 144]),\n",
              " 144: array([144, 140, 120, 143]),\n",
              " 145: array([147, 141, 145, 139]),\n",
              " 146: array([146, 123, 111, 126]),\n",
              " 147: array([147, 111, 110, 116]),\n",
              " 148: array([148, 136, 115, 110]),\n",
              " 149: array([149, 127, 138, 101])}"
            ]
          },
          "metadata": {
            "tags": []
          },
          "execution_count": 61
        }
      ]
    },
    {
      "cell_type": "code",
      "metadata": {
        "id": "srhxD7-8Or_n",
        "colab_type": "code",
        "colab": {}
      },
      "source": [
        ""
      ],
      "execution_count": 0,
      "outputs": []
    }
  ]
}